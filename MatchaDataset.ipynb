{
  "nbformat": 4,
  "nbformat_minor": 0,
  "metadata": {
    "colab": {
      "provenance": [],
      "authorship_tag": "ABX9TyMmu5JQznCdn6QAJ4s8iZSJ"
    },
    "kernelspec": {
      "name": "python3",
      "display_name": "Python 3"
    },
    "language_info": {
      "name": "python"
    }
  },
  "cells": [
    {
      "cell_type": "code",
      "execution_count": 1,
      "metadata": {
        "id": "xwoG0fIRpQYi",
        "colab": {
          "base_uri": "https://localhost:8080/"
        },
        "outputId": "4fb9c2cd-e70b-4830-e5aa-145a67786f97"
      },
      "outputs": [
        {
          "output_type": "stream",
          "name": "stdout",
          "text": [
            "   sunlight_hours   soil_ph  rainfall_mm  avg_temp_celsius  \\\n",
            "0        5.745071  6.016926    28.577874         17.513015   \n",
            "1        4.792604  6.215871    30.607845         18.319457   \n",
            "2        5.971533  6.231457    35.830512         22.241881   \n",
            "3        7.284545  6.139545    35.538021         21.831111   \n",
            "4        4.648770  6.267743    11.223306         19.937295   \n",
            "\n",
            "   leaf_quality_score  harvest_yield_kg  \n",
            "0           26.099443          1.768061  \n",
            "1           28.544378          2.381927  \n",
            "2           35.062346          1.053834  \n",
            "3           39.051581          2.234064  \n",
            "4           28.548006          1.102079  \n"
          ]
        }
      ],
      "source": [
        "import pandas as pd\n",
        "import numpy as np\n",
        "\n",
        "# Set seed for reproducibility\n",
        "np.random.seed(42)\n",
        "\n",
        "# Simulate 100 days of matcha farming\n",
        "n_samples = 100\n",
        "\n",
        "data = {\n",
        "    'sunlight_hours': np.clip(np.random.normal(5, 1.5, n_samples), 2, 8),\n",
        "    'soil_ph': np.clip(np.random.normal(6.3, 0.2, n_samples), 5.8, 6.8),\n",
        "    'rainfall_mm': np.clip(np.random.normal(25, 10, n_samples), 5, 60),\n",
        "    'avg_temp_celsius': np.clip(np.random.normal(20, 3, n_samples), 15, 28),\n",
        "}\n",
        "\n",
        "# Create target features with some weighted influence and noise\n",
        "data['leaf_quality_score'] = (\n",
        "    0.3 * data['sunlight_hours'] +\n",
        "    0.2 * (7 - np.abs(data['soil_ph'] - 6.3)) +  # Optimal near 6.3\n",
        "    0.2 * np.clip(30 - np.abs(data['rainfall_mm'] - 25), 0, 30) / 30 +\n",
        "    0.2 * np.clip(25 - np.abs(data['avg_temp_celsius'] - 22), 0, 25) / 25 +\n",
        "    np.random.normal(0, 0.5, n_samples)\n",
        ") * 10  # Scale to 0–100\n",
        "\n",
        "data['leaf_quality_score'] = np.clip(data['leaf_quality_score'], 0, 100)\n",
        "\n",
        "data['harvest_yield_kg'] = (\n",
        "    0.5 * data['leaf_quality_score'] +\n",
        "    np.random.normal(0, 5, n_samples)\n",
        ") / 10\n",
        "\n",
        "# Convert to DataFrame\n",
        "df = pd.DataFrame(data)\n",
        "print(df.head())"
      ]
    }
  ]
}